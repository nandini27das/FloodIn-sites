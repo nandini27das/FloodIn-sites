{
  "cells": [
    {
      "cell_type": "code",
      "execution_count": null,
      "metadata": {
        "id": "j4muIsZmvttF"
      },
      "outputs": [],
      "source": [
        "from google.colab import drive\n",
        "drive.mount('/content/drive')"
      ]
    },
    {
      "cell_type": "code",
      "execution_count": null,
      "metadata": {
        "id": "GGyOV7QYW5th"
      },
      "outputs": [],
      "source": [
        "!pip install pysal"
      ]
    },
    {
      "cell_type": "code",
      "execution_count": null,
      "metadata": {
        "id": "tbeJyUp4v0Zr"
      },
      "outputs": [],
      "source": [
        "%matplotlib inline\n",
        "import numpy as np\n",
        "import pandas\n",
        "from matplotlib import pyplot as plt\n",
        "import seaborn\n",
        "from pandas.plotting import parallel_coordinates"
      ]
    },
    {
      "cell_type": "code",
      "execution_count": null,
      "metadata": {
        "id": "jfFSBtfwXK9L"
      },
      "outputs": [],
      "source": [
        "import os\n",
        "import geopandas as gpd\n",
        "from geopandas import GeoDataFrame\n",
        "import pysal\n",
        "import fiona\n",
        "import shapely\n",
        "from shapely.geometry import Point, Polygon\n",
        "import matplotlib\n",
        "import matplotlib.image as mpimg\n",
        "from matplotlib import gridspec\n",
        "%matplotlib inline\n",
        "from scipy import stats\n",
        "from IPython.display import IFrame\n",
        "import folium\n",
        "from folium import plugins\n",
        "from folium.plugins import HeatMap, MarkerCluster, FastMarkerCluster"
      ]
    },
    {
      "cell_type": "code",
      "execution_count": null,
      "metadata": {
        "id": "8wCGozqevxy2"
      },
      "outputs": [],
      "source": [
        "import pandas as pd\n",
        "df = pd.read_csv(\"drive/My Drive/MCA Sem-3 Project/Final data and materials/MinorProj_FloodData_2000-2013.csv\")\n",
        "df.info()"
      ]
    },
    {
      "cell_type": "code",
      "execution_count": null,
      "metadata": {
        "id": "MoMd3rk5Lotg"
      },
      "outputs": [],
      "source": [
        "order = df.groupby(by=\"Year\").size().index\n",
        "by= seaborn.catplot(data=df, x=\"Year\", kind='count', order=order, color=\"#9999FF\", height=4, aspect= 1.8)\n",
        "plt.title(\"Distribution of flood count yearwise \")\n",
        "by.set(xlabel=\"Year\", ylabel=\"No. of flood events\")\n",
        "seaborn.set_style(\"ticks\")\n",
        "plt.xticks(rotation=90)"
      ]
    },
    {
      "cell_type": "code",
      "execution_count": null,
      "metadata": {
        "id": "OXHNRwidwAGy"
      },
      "outputs": [],
      "source": [
        "region=[]\n",
        "for i in df[\"State_or_UT\"]:\n",
        "  if i in [\"Arunachal Pradesh\", \"Assam\", \"Manipur\", \"Meghalaya\", \"Mizoram\", \"Nagaland\", \"Tripura\", \"Sikkim\"]:\n",
        "    region.append(\"North East\")\n",
        "  elif i in [\"Goa\", \"Gujarat\", \"Maharashtra\", \"Daman&Diu\", \"Dadra&Nagar Haveli\"]:\n",
        "    region.append(\"West\")\n",
        "  elif i in [\"Punjab\", \"Rajasthan\", \"Haryana\", \"Himachal Pradesh\", \"Delhi\", \"Chandigarh\", \"Ladakh\", \"Jammu & Kashmir\", \"Uttarakhand\", \"Uttar Pradesh\"]:\n",
        "    region.append(\"North\")\n",
        "  elif i in [\"Bihar\", \"Jharkhand\", \"Odisha\", \"West Bengal\", \"Andaman&Nicobar\", \"Puducherry\"]:\n",
        "    region.append(\"East\")\n",
        "  elif i in [\"Madhya Pradesh\", \"Chhattisgarh\"]:\n",
        "    region.append(\"Central\")\n",
        "  elif i in [\"Andhra Pradesh\", \"Karnataka\", \"Kerala\", \"Tamil Nadu\", \"Telangana\"]:\n",
        "    region.append(\"South\")\n",
        "df[\"Region\"]=region\n",
        "df"
      ]
    },
    {
      "cell_type": "code",
      "execution_count": null,
      "metadata": {
        "id": "P8EZvw6v3k3S"
      },
      "outputs": [],
      "source": [
        "order = df.groupby(by=\"Region\").size().value_counts().index\n",
        "order"
      ]
    },
    {
      "cell_type": "code",
      "execution_count": null,
      "metadata": {
        "id": "7-dQ6_KU6jdD"
      },
      "outputs": [],
      "source": [
        "order = df.groupby(by=\"Region\").size().sort_values(ascending=False).index\n",
        "br= seaborn.catplot(data=df, x=\"Region\", kind='count', order=order, palette='crest', height=4, aspect= 1.5)\n",
        "plt.title(\"Distribution of flood count regionwise \")\n",
        "br.set(xlabel=\"Regions of India\", ylabel=\"No. of flood events\")\n",
        "plt.xticks(rotation=90)"
      ]
    },
    {
      "cell_type": "code",
      "execution_count": null,
      "metadata": {
        "id": "fapdJYMI9Z5c"
      },
      "outputs": [],
      "source": [
        "e = df.loc[df['Region'] == \"East\"]\n",
        "order = e.groupby(by=\"Year\").size().index\n",
        "be= seaborn.catplot(data=e, x=\"Year\", kind='count', order=order, color= 'lightgreen', height=4, aspect= 1.8)\n",
        "plt.title(\"Distribution of flood count in the East\")\n",
        "be.set(xlabel=\"Year\", ylabel=\"No. of flood events\")\n",
        "seaborn.set_style(\"ticks\")\n",
        "plt.xticks(rotation=90)"
      ]
    },
    {
      "cell_type": "code",
      "execution_count": null,
      "metadata": {
        "id": "mM6gsXfsCHYS"
      },
      "outputs": [],
      "source": [
        "s = df.loc[df['Region'] == \"South\"]\n",
        "order = s.groupby(by=\"Year\").size().index\n",
        "seaborn.catplot(data=s, x=\"Year\", kind='count', order=order, color= 'lightgrey', height=4, aspect= 1.8)\n",
        "plt.title(\"Distribution of flood count in the South \")\n",
        "seaborn.set_style(\"ticks\")\n",
        "plt.xticks(rotation=90)"
      ]
    },
    {
      "cell_type": "code",
      "execution_count": null,
      "metadata": {
        "id": "dcCvwYPn-PzT"
      },
      "outputs": [],
      "source": [
        "ne = df.loc[df['Region'] == \"North East\"]\n",
        "order = ne.groupby(by=\"Year\").size().index\n",
        "seaborn.catplot(data=ne, x=\"Year\", kind='count', order=order, color='lightblue', height=4, aspect= 1.8)\n",
        "plt.title(\"Distribution of flood count in the North East \")\n",
        "seaborn.set_style(\"ticks\")\n",
        "plt.xticks(rotation=90)"
      ]
    },
    {
      "cell_type": "code",
      "execution_count": null,
      "metadata": {
        "id": "4cIfHNvlEK0S"
      },
      "outputs": [],
      "source": [
        "n = df.loc[df['Region'] == \"North\"]\n",
        "order = n.groupby(by=\"Year\").size().index\n",
        "ny= seaborn.catplot(data=n, x=\"Year\", kind='count', order=order, color= 'lightgreen', height=4, aspect= 1.8)\n",
        "plt.title(\"Distribution of flood count in the North\")\n",
        "ny.set(xlabel=\"Year\", ylabel=\"No. of flood events\")\n",
        "seaborn.set_style(\"ticks\")\n",
        "plt.xticks(rotation=90)"
      ]
    },
    {
      "cell_type": "code",
      "execution_count": null,
      "metadata": {
        "id": "V03NEYQxUYg5"
      },
      "outputs": [],
      "source": [
        "w = df.loc[df['Region'] == \"West\"]\n",
        "order = w.groupby(by=\"Year\").size().index\n",
        "wy= seaborn.catplot(data=w, x=\"Year\", kind='count', order=order, color= 'lightgreen', height=4, aspect= 1.8)\n",
        "plt.title(\"Distribution of flood count in the West\")\n",
        "wy.set(xlabel=\"Year\", ylabel=\"No. of flood events\")\n",
        "seaborn.set_style(\"ticks\")\n",
        "plt.xticks(rotation=90)"
      ]
    },
    {
      "cell_type": "code",
      "execution_count": null,
      "metadata": {
        "id": "FpbqjykVUwkX"
      },
      "outputs": [],
      "source": [
        "c = df.loc[df['Region'] == \"Central\"]\n",
        "order = c.groupby(by=\"Year\").size().index\n",
        "cy= seaborn.catplot(data=c, x=\"Year\", kind='count', order=order, color= 'lightgreen', height=4, aspect= 1.8)\n",
        "plt.title(\"Distribution of flood count in the Central\")\n",
        "cy.set(xlabel=\"Year\", ylabel=\"No. of flood events\")\n",
        "seaborn.set_style(\"ticks\")\n",
        "plt.xticks(rotation=90)"
      ]
    },
    {
      "cell_type": "code",
      "execution_count": null,
      "metadata": {
        "id": "gKbK4-ef1335"
      },
      "outputs": [],
      "source": [
        "order = df.groupby(by=\"Month\").size().index\n",
        "bm=seaborn.catplot(data=df, x=\"Month\", kind='count', order=order, color=\"#FFCC99\", height=4, aspect= 1.5)\n",
        "plt.title(\"Distribution of flood count monthwise \")\n",
        "bm.set(xlabel=\"Months\", ylabel=\"No. of flood events\")\n",
        "seaborn.set_style(\"ticks\")\n",
        "plt.xticks(rotation=90)"
      ]
    },
    {
      "cell_type": "code",
      "execution_count": null,
      "metadata": {
        "id": "0ezpZkUQCqaE"
      },
      "outputs": [],
      "source": [
        "order = e.groupby(by=\"Month\").size().index\n",
        "bme = seaborn.catplot(data=e, x=\"Month\", kind='count', order=order, color= 'lightgreen', height=3, aspect=1)\n",
        "plt.title(\"Eastern India\")\n",
        "bme.set(xlabel=\"Month\", ylabel=\"No. of flood events\")\n",
        "sns.set_style(\"ticks\")\n",
        "plt.xticks(rotation=90)"
      ]
    },
    {
      "cell_type": "code",
      "execution_count": null,
      "metadata": {
        "id": "0QTHk4g6C3SE"
      },
      "outputs": [],
      "source": [
        "order = s.groupby(by=\"Month\").size().index\n",
        "bms=seaborn.catplot(data=s, x=\"Month\", kind='count', order=order, color= 'lightgrey', height=3, aspect=1)\n",
        "plt.title(\"Southern India \")\n",
        "bms.set(xlabel=\"Month\", ylabel=\"No. of flood events\")\n",
        "sns.set_style(\"ticks\")\n",
        "plt.xticks(rotation=90)"
      ]
    },
    {
      "cell_type": "code",
      "execution_count": null,
      "metadata": {
        "id": "ptG3PW6UDeSl"
      },
      "outputs": [],
      "source": [
        "order = ne.groupby(by=\"Month\").size().index\n",
        "bmne=seaborn.catplot(data=ne, x=\"Month\", kind='count', order=order, color='lightblue', height=3, aspect=1)\n",
        "plt.title(\"North Eastern India\")\n",
        "bmne.set(xlabel=\"Month\", ylabel=\"No. of flood events\")\n",
        "sns.set_style(\"ticks\")\n",
        "plt.xticks(rotation=90)"
      ]
    },
    {
      "cell_type": "code",
      "execution_count": null,
      "metadata": {
        "id": "auk3Fo_d2Arg"
      },
      "outputs": [],
      "source": [
        "n= df.loc[df['Region'] == \"North\"]\n",
        "order = n.groupby(by=\"Month\").size().index\n",
        "bmn=seaborn.catplot(data=ne, x=\"Month\", kind='count', order=order, color='lightpink', height=3, aspect=1)\n",
        "plt.title(\"Northern India\")\n",
        "bmn.set(xlabel=\"Month\", ylabel=\"No. of flood events\")\n",
        "sns.set_style(\"ticks\")\n",
        "plt.xticks(rotation=90)"
      ]
    },
    {
      "cell_type": "code",
      "execution_count": null,
      "metadata": {
        "id": "muOUZNbyVEmA"
      },
      "outputs": [],
      "source": [
        "order = w.groupby(by=\"Month\").size().index\n",
        "bmw=seaborn.catplot(data=w, x=\"Month\", kind='count', order=order, color='lightblue', height=3, aspect=1)\n",
        "plt.title(\"Western India\")\n",
        "bmw.set(xlabel=\"Month\", ylabel=\"No. of flood events\")\n",
        "seaborn.set_style(\"ticks\")\n",
        "plt.xticks(rotation=90)"
      ]
    },
    {
      "cell_type": "code",
      "execution_count": null,
      "metadata": {
        "id": "0mqpyeqiVYfq"
      },
      "outputs": [],
      "source": [
        "order = c.groupby(by=\"Month\").size().index\n",
        "bmc=seaborn.catplot(data=c, x=\"Month\", kind='count', order=order, color='lightblue', height=3, aspect=1)\n",
        "plt.title(\"Central India\")\n",
        "bmc.set(xlabel=\"Month\", ylabel=\"No. of flood events\")\n",
        "seaborn.set_style(\"ticks\")\n",
        "plt.xticks(rotation=90)"
      ]
    },
    {
      "cell_type": "code",
      "execution_count": null,
      "metadata": {
        "id": "aXIvJtjHMoNa"
      },
      "outputs": [],
      "source": [
        "order = df.groupby(by=\"State_or_UT\").size().sort_values(ascending=False).index\n",
        "st_c=seaborn.catplot(data=df, x=\"State_or_UT\", kind='count', order=order, palette=\"RdBu\", height=4, aspect=1.8)\n",
        "plt.title(\"Distribution of flood events in State and Union Territory \")\n",
        "st_c.set(xlabel=\"State and Union Territory\", ylabel=\"No. of flood events\")\n",
        "sns.set_style(\"ticks\")\n",
        "plt.xticks(rotation=90)"
      ]
    },
    {
      "cell_type": "code",
      "execution_count": null,
      "metadata": {
        "id": "KslTVTG-hpxA"
      },
      "outputs": [],
      "source": [
        "stut = df.groupby(by=\"State_or_UT\").size().value_counts().index\n",
        "stut"
      ]
    },
    {
      "cell_type": "code",
      "execution_count": null,
      "metadata": {
        "id": "3sO9KulgRdRk"
      },
      "outputs": [],
      "source": [
        "lat_hist=sns.histplot(data = df['lat_new'], stat=\"probability\", kde = True, color=\"#FF9966\")\n",
        "lat_hist.set(xlabel=\"Latitude\", ylabel=\"Flood Density\")"
      ]
    },
    {
      "cell_type": "code",
      "execution_count": null,
      "metadata": {
        "id": "sPEMo6PG_dy-"
      },
      "outputs": [],
      "source": [
        "lon_hist=sns.histplot(data = df['lon_new'], stat=\"probability\", kde = True, color=\"#3399FF\")\n",
        "lon_hist.set(xlabel=\"Longitude\", ylabel=\"Flood Density\")"
      ]
    },
    {
      "cell_type": "code",
      "execution_count": null,
      "metadata": {
        "id": "eBlufCwRXGvH"
      },
      "outputs": [],
      "source": [
        "seaborn.set_style(\"darkgrid\")"
      ]
    },
    {
      "cell_type": "code",
      "execution_count": null,
      "metadata": {
        "id": "1vBNcCjC0TGj"
      },
      "outputs": [],
      "source": [
        "shape= gpd.read_file(\"drive/MyDrive/MCA Sem-3 Project/Final data and materials/India_shape_files/IND_adm1.shp\")\n",
        "points_gjson = folium.features.GeoJson(shape, name=\"Heatmap for flood events\")"
      ]
    },
    {
      "cell_type": "code",
      "execution_count": null,
      "metadata": {
        "id": "4b-lbeXcxbPN"
      },
      "outputs": [],
      "source": [
        "df['lat_new'] = df['lat_new'].astype(float)\n",
        "df['lon_new'] = df['lon_new'].astype(float)\n",
        "\n",
        "# Filter the DF for rows, then columns, then remove NaNs\n",
        "heat_df = df[['lat_new', 'lon_new']]\n",
        "heat_df = heat_df.dropna(axis=0, subset=['lat_new','lon_new'])\n",
        "\n",
        "# List comprehension to make out list of lists\n",
        "heat_data = [[row['lat_new'],row['lon_new']] for index, row in heat_df.iterrows()]\n",
        "\n",
        "heatmap_map = folium.Map([27.891513, 78.078743], zoom_start=4.4)\n",
        "heatmap_map.add_child(points_gjson)\n",
        "# Plot it on the map\n",
        "hm=plugins.HeatMap(heat_data)\n",
        "heatmap_map.add_child(hm)"
      ]
    },
    {
      "cell_type": "code",
      "execution_count": null,
      "metadata": {
        "id": "-tHBFk5JhjQ1"
      },
      "outputs": [],
      "source": [
        "hm7= df.loc[df['Month'] == 7]\n",
        "hm7['lat_new'] = hm7['lat_new'].astype(float)\n",
        "hm7['lon_new'] = hm7['lon_new'].astype(float)\n",
        "\n",
        "# Filter the DF for rows, then columns, then remove NaNs\n",
        "heat_df = hm7[['lat_new', 'lon_new']]\n",
        "heat_df = heat_df.dropna(axis=0, subset=['lat_new','lon_new'])\n",
        "\n",
        "# List comprehension to make out list of lists\n",
        "heat_data = [[row['lat_new'],row['lon_new']] for index, row in heat_df.iterrows()]\n",
        "\n",
        "heatmap_map = folium.Map([27.891513, 78.078743], zoom_start=4.4)\n",
        "heatmap_map.add_child(points_gjson)\n",
        "# Plot it on the map\n",
        "hm=plugins.HeatMap(heat_data)\n",
        "heatmap_map.add_child(hm)"
      ]
    },
    {
      "cell_type": "code",
      "execution_count": null,
      "metadata": {
        "id": "HWVYs_AvjKo1"
      },
      "outputs": [],
      "source": [
        "hm8= df.loc[df['Month'] == 8]\n",
        "hm8['lat_new'] = hm8['lat_new'].astype(float)\n",
        "hm8['lon_new'] = hm8['lon_new'].astype(float)\n",
        "\n",
        "# Filter the DF for rows, then columns, then remove NaNs\n",
        "heat_df = hm8[['lat_new', 'lon_new']]\n",
        "heat_df = heat_df.dropna(axis=0, subset=['lat_new','lon_new'])\n",
        "\n",
        "# List comprehension to make out list of lists\n",
        "heat_data = [[row['lat_new'],row['lon_new']] for index, row in heat_df.iterrows()]\n",
        "\n",
        "heatmap_map = folium.Map([27.891513, 78.078743], zoom_start=4.4)\n",
        "heatmap_map.add_child(points_gjson)\n",
        "# Plot it on the map\n",
        "hm=plugins.HeatMap(heat_data)\n",
        "heatmap_map.add_child(hm)"
      ]
    },
    {
      "cell_type": "code",
      "execution_count": null,
      "metadata": {
        "id": "2kdB3p-Jj-MW"
      },
      "outputs": [],
      "source": [
        "hm9= df.loc[df['Month'] == 9]\n",
        "hm9['lat_new'] = hm9['lat_new'].astype(float)\n",
        "hm9['lon_new'] = hm9['lon_new'].astype(float)\n",
        "\n",
        "# Filter the DF for rows, then columns, then remove NaNs\n",
        "heat_df = hm9[['lat_new', 'lon_new']]\n",
        "heat_df = heat_df.dropna(axis=0, subset=['lat_new','lon_new'])\n",
        "\n",
        "# List comprehension to make out list of lists\n",
        "heat_data = [[row['lat_new'],row['lon_new']] for index, row in heat_df.iterrows()]\n",
        "\n",
        "heatmap_map = folium.Map([27.891513, 78.078743], zoom_start=4.4)\n",
        "heatmap_map.add_child(points_gjson)\n",
        "# Plot it on the map\n",
        "hm=plugins.HeatMap(heat_data)\n",
        "heatmap_map.add_child(hm)"
      ]
    },
    {
      "cell_type": "code",
      "execution_count": null,
      "metadata": {
        "id": "O4UsZssMkxP6"
      },
      "outputs": [],
      "source": [
        "hm10= df.loc[df['Month'] == 10]\n",
        "hm10['lat_new'] = hm10['lat_new'].astype(float)\n",
        "hm10['lon_new'] = hm10['lon_new'].astype(float)\n",
        "\n",
        "# Filter the DF for rows, then columns, then remove NaNs\n",
        "heat_df = hm10[['lat_new', 'lon_new']]\n",
        "heat_df = heat_df.dropna(axis=0, subset=['lat_new','lon_new'])\n",
        "\n",
        "# List comprehension to make out list of lists\n",
        "heat_data = [[row['lat_new'],row['lon_new']] for index, row in heat_df.iterrows()]\n",
        "\n",
        "heatmap_map = folium.Map([27.891513, 78.078743], zoom_start=4.4)\n",
        "heatmap_map.add_child(points_gjson)\n",
        "# Plot it on the map\n",
        "hm=plugins.HeatMap(heat_data)\n",
        "heatmap_map.add_child(hm)"
      ]
    },
    {
      "cell_type": "code",
      "source": [
        "from sklearn.cluster import KMeans"
      ],
      "metadata": {
        "id": "LrVT8I24-KRf"
      },
      "execution_count": null,
      "outputs": []
    },
    {
      "cell_type": "code",
      "source": [
        "X=df.loc[:,['Id','lat_new','lon_new']]\n",
        "X.head(10)"
      ],
      "metadata": {
        "id": "UgQh6Sx0-QA7"
      },
      "execution_count": null,
      "outputs": []
    },
    {
      "cell_type": "code",
      "execution_count": null,
      "metadata": {
        "id": "y1Ecv7MB92VM"
      },
      "outputs": [],
      "source": [
        "K_clusters = range(1,10)\n",
        "kmeans = [KMeans(n_clusters=i) for i in K_clusters]\n",
        "Y_axis = df[['lat_new']]\n",
        "X_axis = df[['lon_new']]\n",
        "score = [kmeans[i].fit(Y_axis).score(Y_axis) for i in range(len(kmeans))]\n",
        "# Visualize\n",
        "plt.plot(K_clusters, score)\n",
        "plt.xlabel('Number of Clusters')\n",
        "plt.ylabel('Score')\n",
        "plt.title('Elbow Curve')\n",
        "plt.show()"
      ]
    },
    {
      "cell_type": "code",
      "execution_count": null,
      "metadata": {
        "id": "GU4XQ7wW-CU2"
      },
      "outputs": [],
      "source": [
        "kmeans = KMeans(n_clusters = 3, init ='k-means++', random_state=0)\n",
        "kmeans.fit(X[X.columns[1:3]]) # Compute k-means clustering.\n",
        "X['cluster_label'] = kmeans.fit_predict(X[X.columns[1:3]])\n",
        "centers = kmeans.cluster_centers_ # Coordinates of cluster centers.\n",
        "labels = kmeans.predict(X[X.columns[1:3]]) # Labels of each point\n",
        "X"
      ]
    },
    {
      "cell_type": "code",
      "execution_count": null,
      "metadata": {
        "id": "7dIrL_yt-Tux"
      },
      "outputs": [],
      "source": [
        "X.plot.scatter(x = 'lon_new', y = 'lat_new', c=labels, s=50, cmap='flare')"
      ]
    },
    {
      "cell_type": "code",
      "execution_count": null,
      "metadata": {
        "id": "tH1uVEw_-rQK"
      },
      "outputs": [],
      "source": [
        "df.head(5)"
      ]
    },
    {
      "cell_type": "code",
      "execution_count": null,
      "metadata": {
        "id": "1rK3YCQA-t-o"
      },
      "outputs": [],
      "source": [
        "X.head(5)"
      ]
    },
    {
      "cell_type": "code",
      "execution_count": null,
      "metadata": {
        "id": "USH5XWPZ-zuj"
      },
      "outputs": [],
      "source": [
        "X = X[['Id','cluster_label']]\n",
        "X.head(5)"
      ]
    },
    {
      "cell_type": "code",
      "execution_count": null,
      "metadata": {
        "id": "yPtAO1hy-7fW"
      },
      "outputs": [],
      "source": [
        "clustered_data = df.merge(X, left_on='Id', right_on='Id')\n",
        "clustered_data"
      ]
    },
    {
      "cell_type": "code",
      "execution_count": null,
      "metadata": {
        "id": "azlnsDYN_pQ1"
      },
      "outputs": [],
      "source": [
        "clustered_data.to_csv('clustered_data.csv', index=None, header = True)"
      ]
    },
    {
      "cell_type": "code",
      "source": [
        "!pip install contextily"
      ],
      "metadata": {
        "id": "sJWV_H-pfGix"
      },
      "execution_count": null,
      "outputs": []
    },
    {
      "cell_type": "code",
      "source": [
        "import contextily\n",
        "joint_axes = seaborn.jointplot(\n",
        "    x=\"lon_new\", y=\"lat_new\", data=clustered_data, s=5, hue=\"cluster_label\", palette=\"Set1\", ratio=5, height=7\n",
        ")\n",
        "contextily.add_basemap(\n",
        "    joint_axes.ax_joint,\n",
        "    crs=\"EPSG:4326\",\n",
        "    source=contextily.providers.CartoDB.PositronNoLabels,\n",
        ");"
      ],
      "metadata": {
        "id": "zllNS77kfC47"
      },
      "execution_count": null,
      "outputs": []
    }
  ],
  "metadata": {
    "colab": {
      "provenance": []
    },
    "kernelspec": {
      "display_name": "Python 3",
      "name": "python3"
    },
    "language_info": {
      "name": "python"
    }
  },
  "nbformat": 4,
  "nbformat_minor": 0
}